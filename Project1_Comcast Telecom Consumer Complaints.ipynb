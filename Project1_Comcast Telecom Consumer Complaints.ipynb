{
 "cells": [
  {
   "cell_type": "markdown",
   "id": "e7edd9b2",
   "metadata": {},
   "source": [
    "# Comcast Telecom Consumer Complaints"
   ]
  },
  {
   "cell_type": "markdown",
   "id": "fe144ca3",
   "metadata": {},
   "source": [
    "### DESCRIPTION\n",
    "\n",
    "Comcast is an American global telecommunication company. The firm has been providing terrible customer service. They continue to fall short despite repeated promises to improve. Only last month (October 2016) the authority fined them a $2.3 million, after receiving over 1000 consumer complaints.\n",
    "The existing database will serve as a repository of public customer complaints filed against Comcast.\n",
    "It will help to pin down what is wrong with Comcast's customer service.\n",
    "\n",
    "### <u>Data Dictionary</u>\n",
    "\n",
    "- Ticket #: Ticket number assigned to each complaint\n",
    "- Customer Complaint: Description of complaint\n",
    "- Date: Date of complaint\n",
    "- Time: Time of complaint\n",
    "- Received Via: Mode of communication of the complaint\n",
    "- City: Customer city\n",
    "- State: Customer state\n",
    "- Zipcode: Customer zip\n",
    "- Status: Status of complaint\n",
    "- Filing on behalf of someone\n",
    "\n",
    "### <u>Analysis Task</u>\n",
    "\n",
    "To perform these tasks, you can use any of the different Python libraries such as NumPy, SciPy, Pandas, scikit-learn, matplotlib, and BeautifulSoup.\n",
    "\n",
    "- Import data into Python environment.\n",
    "- Provide the trend chart for the number of complaints at monthly and daily granularity levels.\n",
    "- Provide a table with the frequency of complaint types.\n",
    "> Which complaint types are maximum i.e., around internet, network issues, or across any other domains.\n",
    "- Create a new categorical variable with value as Open and Closed. Open & Pending is to be categorized as Open and Closed & Solved is to be categorized as Closed.\n",
    "- Provide state wise status of complaints in a stacked bar chart. Use the categorized variable from Q3. Provide insights on:\n",
    "> Which state has the maximum complaints\n",
    ">> Which state has the highest percentage of unresolved complaints\n",
    "- Provide the percentage of complaints resolved till date, which were received through the Internet and customer care calls.\n",
    "\n",
    "The analysis results to be provided with insights wherever applicable."
   ]
  },
  {
   "cell_type": "code",
   "execution_count": 255,
   "id": "a90c0355",
   "metadata": {},
   "outputs": [],
   "source": [
    "#Importing required libraries\n",
    "import numpy as np\n",
    "import pandas as pd\n",
    "import matplotlib.pyplot as plt\n",
    "%matplotlib inline"
   ]
  },
  {
   "cell_type": "markdown",
   "id": "4f68c9d5",
   "metadata": {},
   "source": [
    "###  Import data into Python environment."
   ]
  },
  {
   "cell_type": "code",
   "execution_count": 225,
   "id": "e75ab917",
   "metadata": {},
   "outputs": [],
   "source": [
    "#Importing CCTC(Comcast Telecom Consumer Complaints) Dataset into python environment\n",
    "path=r'D:\\Python Simplilearn Material\\Comcast Telecom Consumer Complaints'\n",
    "CTCC_Data=pd.read_csv(path+r'\\Comcast_telecom_complaints_data.csv')"
   ]
  },
  {
   "cell_type": "code",
   "execution_count": 226,
   "id": "ae2436dd",
   "metadata": {},
   "outputs": [
    {
     "data": {
      "text/html": [
       "<div>\n",
       "<style scoped>\n",
       "    .dataframe tbody tr th:only-of-type {\n",
       "        vertical-align: middle;\n",
       "    }\n",
       "\n",
       "    .dataframe tbody tr th {\n",
       "        vertical-align: top;\n",
       "    }\n",
       "\n",
       "    .dataframe thead th {\n",
       "        text-align: right;\n",
       "    }\n",
       "</style>\n",
       "<table border=\"1\" class=\"dataframe\">\n",
       "  <thead>\n",
       "    <tr style=\"text-align: right;\">\n",
       "      <th></th>\n",
       "      <th>Ticket #</th>\n",
       "      <th>Customer Complaint</th>\n",
       "      <th>Date</th>\n",
       "      <th>Date_month_year</th>\n",
       "      <th>Time</th>\n",
       "      <th>Received Via</th>\n",
       "      <th>City</th>\n",
       "      <th>State</th>\n",
       "      <th>Zip code</th>\n",
       "      <th>Status</th>\n",
       "      <th>Filing on Behalf of Someone</th>\n",
       "    </tr>\n",
       "  </thead>\n",
       "  <tbody>\n",
       "    <tr>\n",
       "      <th>0</th>\n",
       "      <td>250635</td>\n",
       "      <td>Comcast Cable Internet Speeds</td>\n",
       "      <td>22-04-15</td>\n",
       "      <td>22-Apr-15</td>\n",
       "      <td>3:53:50 PM</td>\n",
       "      <td>Customer Care Call</td>\n",
       "      <td>Abingdon</td>\n",
       "      <td>Maryland</td>\n",
       "      <td>21009</td>\n",
       "      <td>Closed</td>\n",
       "      <td>No</td>\n",
       "    </tr>\n",
       "    <tr>\n",
       "      <th>1</th>\n",
       "      <td>223441</td>\n",
       "      <td>Payment disappear - service got disconnected</td>\n",
       "      <td>04-08-15</td>\n",
       "      <td>04-Aug-15</td>\n",
       "      <td>10:22:56 AM</td>\n",
       "      <td>Internet</td>\n",
       "      <td>Acworth</td>\n",
       "      <td>Georgia</td>\n",
       "      <td>30102</td>\n",
       "      <td>Closed</td>\n",
       "      <td>No</td>\n",
       "    </tr>\n",
       "    <tr>\n",
       "      <th>2</th>\n",
       "      <td>242732</td>\n",
       "      <td>Speed and Service</td>\n",
       "      <td>18-04-15</td>\n",
       "      <td>18-Apr-15</td>\n",
       "      <td>9:55:47 AM</td>\n",
       "      <td>Internet</td>\n",
       "      <td>Acworth</td>\n",
       "      <td>Georgia</td>\n",
       "      <td>30101</td>\n",
       "      <td>Closed</td>\n",
       "      <td>Yes</td>\n",
       "    </tr>\n",
       "    <tr>\n",
       "      <th>3</th>\n",
       "      <td>277946</td>\n",
       "      <td>Comcast Imposed a New Usage Cap of 300GB that ...</td>\n",
       "      <td>05-07-15</td>\n",
       "      <td>05-Jul-15</td>\n",
       "      <td>11:59:35 AM</td>\n",
       "      <td>Internet</td>\n",
       "      <td>Acworth</td>\n",
       "      <td>Georgia</td>\n",
       "      <td>30101</td>\n",
       "      <td>Open</td>\n",
       "      <td>Yes</td>\n",
       "    </tr>\n",
       "    <tr>\n",
       "      <th>4</th>\n",
       "      <td>307175</td>\n",
       "      <td>Comcast not working and no service to boot</td>\n",
       "      <td>26-05-15</td>\n",
       "      <td>26-May-15</td>\n",
       "      <td>1:25:26 PM</td>\n",
       "      <td>Internet</td>\n",
       "      <td>Acworth</td>\n",
       "      <td>Georgia</td>\n",
       "      <td>30101</td>\n",
       "      <td>Solved</td>\n",
       "      <td>No</td>\n",
       "    </tr>\n",
       "  </tbody>\n",
       "</table>\n",
       "</div>"
      ],
      "text/plain": [
       "  Ticket #                                 Customer Complaint      Date  \\\n",
       "0   250635                      Comcast Cable Internet Speeds  22-04-15   \n",
       "1   223441       Payment disappear - service got disconnected  04-08-15   \n",
       "2   242732                                  Speed and Service  18-04-15   \n",
       "3   277946  Comcast Imposed a New Usage Cap of 300GB that ...  05-07-15   \n",
       "4   307175         Comcast not working and no service to boot  26-05-15   \n",
       "\n",
       "  Date_month_year         Time        Received Via      City     State  \\\n",
       "0       22-Apr-15   3:53:50 PM  Customer Care Call  Abingdon  Maryland   \n",
       "1       04-Aug-15  10:22:56 AM            Internet   Acworth   Georgia   \n",
       "2       18-Apr-15   9:55:47 AM            Internet   Acworth   Georgia   \n",
       "3       05-Jul-15  11:59:35 AM            Internet   Acworth   Georgia   \n",
       "4       26-May-15   1:25:26 PM            Internet   Acworth   Georgia   \n",
       "\n",
       "   Zip code  Status Filing on Behalf of Someone  \n",
       "0     21009  Closed                          No  \n",
       "1     30102  Closed                          No  \n",
       "2     30101  Closed                         Yes  \n",
       "3     30101    Open                         Yes  \n",
       "4     30101  Solved                          No  "
      ]
     },
     "execution_count": 226,
     "metadata": {},
     "output_type": "execute_result"
    }
   ],
   "source": [
    "#Displaying the starting 5 rows of CTCC Dataset\n",
    "CTCC_Data.head()"
   ]
  },
  {
   "cell_type": "code",
   "execution_count": 227,
   "id": "47b6f3ba",
   "metadata": {},
   "outputs": [
    {
     "name": "stdout",
     "output_type": "stream",
     "text": [
      "Dimensions of the Dataset (2224, 11)\n",
      "Size of the Dataset (2224, 11)\n"
     ]
    }
   ],
   "source": [
    "print('Dimensions of the Dataset',CTCC_Data.shape)\n",
    "print('Size of the Dataset',CTCC_Data.shape)"
   ]
  },
  {
   "cell_type": "code",
   "execution_count": 228,
   "id": "3c35827d",
   "metadata": {},
   "outputs": [
    {
     "name": "stdout",
     "output_type": "stream",
     "text": [
      "<class 'pandas.core.frame.DataFrame'>\n",
      "RangeIndex: 2224 entries, 0 to 2223\n",
      "Data columns (total 11 columns):\n",
      " #   Column                       Non-Null Count  Dtype \n",
      "---  ------                       --------------  ----- \n",
      " 0   Ticket #                     2224 non-null   object\n",
      " 1   Customer Complaint           2224 non-null   object\n",
      " 2   Date                         2224 non-null   object\n",
      " 3   Date_month_year              2224 non-null   object\n",
      " 4   Time                         2224 non-null   object\n",
      " 5   Received Via                 2224 non-null   object\n",
      " 6   City                         2224 non-null   object\n",
      " 7   State                        2224 non-null   object\n",
      " 8   Zip code                     2224 non-null   int64 \n",
      " 9   Status                       2224 non-null   object\n",
      " 10  Filing on Behalf of Someone  2224 non-null   object\n",
      "dtypes: int64(1), object(10)\n",
      "memory usage: 191.2+ KB\n"
     ]
    }
   ],
   "source": [
    "#Getting the information of the dataset\n",
    "CTCC_Data.info()"
   ]
  },
  {
   "cell_type": "markdown",
   "id": "8324065b",
   "metadata": {},
   "source": [
    "*From the above information we can see that there are 2224 rows and 11 columns in the dataset and all the columns has non-null values*"
   ]
  },
  {
   "cell_type": "code",
   "execution_count": 229,
   "id": "b0a96876",
   "metadata": {},
   "outputs": [
    {
     "name": "stdout",
     "output_type": "stream",
     "text": [
      "Number of missing values:\n",
      " Ticket #                       0\n",
      "Customer Complaint             0\n",
      "Date                           0\n",
      "Date_month_year                0\n",
      "Time                           0\n",
      "Received Via                   0\n",
      "City                           0\n",
      "State                          0\n",
      "Zip code                       0\n",
      "Status                         0\n",
      "Filing on Behalf of Someone    0\n",
      "dtype: int64\n"
     ]
    }
   ],
   "source": [
    "#Cross checking for number of missing values to treat them in case if present\n",
    "print('Number of missing values:\\n',CTCC_Data.isnull().sum())"
   ]
  },
  {
   "cell_type": "markdown",
   "id": "b978d6ce",
   "metadata": {},
   "source": [
    "*From the above result we can conculde that there are no missing values present in the Comcast Telecom Consumer Complaints(CTCC) Dataset,hence we can proceed to perform the analysis tasks*"
   ]
  },
  {
   "cell_type": "markdown",
   "id": "74996a56",
   "metadata": {},
   "source": [
    "### 1. Provide the trend chart for the number of complaints at monthly and daily granularity levels."
   ]
  },
  {
   "cell_type": "code",
   "execution_count": 230,
   "id": "30dca38b",
   "metadata": {},
   "outputs": [
    {
     "data": {
      "text/html": [
       "<div>\n",
       "<style scoped>\n",
       "    .dataframe tbody tr th:only-of-type {\n",
       "        vertical-align: middle;\n",
       "    }\n",
       "\n",
       "    .dataframe tbody tr th {\n",
       "        vertical-align: top;\n",
       "    }\n",
       "\n",
       "    .dataframe thead th {\n",
       "        text-align: right;\n",
       "    }\n",
       "</style>\n",
       "<table border=\"1\" class=\"dataframe\">\n",
       "  <thead>\n",
       "    <tr style=\"text-align: right;\">\n",
       "      <th></th>\n",
       "      <th>Ticket #</th>\n",
       "      <th>Customer Complaint</th>\n",
       "      <th>Date</th>\n",
       "      <th>Date_month_year</th>\n",
       "      <th>Time</th>\n",
       "      <th>Received Via</th>\n",
       "      <th>City</th>\n",
       "      <th>State</th>\n",
       "      <th>Zip code</th>\n",
       "      <th>Status</th>\n",
       "      <th>Filing on Behalf of Someone</th>\n",
       "      <th>Date_New</th>\n",
       "      <th>Day of the Month</th>\n",
       "    </tr>\n",
       "  </thead>\n",
       "  <tbody>\n",
       "    <tr>\n",
       "      <th>0</th>\n",
       "      <td>250635</td>\n",
       "      <td>Comcast Cable Internet Speeds</td>\n",
       "      <td>22-04-15</td>\n",
       "      <td>2015-04-22</td>\n",
       "      <td>3:53:50 PM</td>\n",
       "      <td>Customer Care Call</td>\n",
       "      <td>Abingdon</td>\n",
       "      <td>Maryland</td>\n",
       "      <td>21009</td>\n",
       "      <td>Closed</td>\n",
       "      <td>No</td>\n",
       "      <td>2015-04-22 15:53:50</td>\n",
       "      <td>2015-04-22</td>\n",
       "    </tr>\n",
       "    <tr>\n",
       "      <th>1</th>\n",
       "      <td>223441</td>\n",
       "      <td>Payment disappear - service got disconnected</td>\n",
       "      <td>04-08-15</td>\n",
       "      <td>2015-08-04</td>\n",
       "      <td>10:22:56 AM</td>\n",
       "      <td>Internet</td>\n",
       "      <td>Acworth</td>\n",
       "      <td>Georgia</td>\n",
       "      <td>30102</td>\n",
       "      <td>Closed</td>\n",
       "      <td>No</td>\n",
       "      <td>2015-08-04 10:22:56</td>\n",
       "      <td>2015-04-08</td>\n",
       "    </tr>\n",
       "    <tr>\n",
       "      <th>2</th>\n",
       "      <td>242732</td>\n",
       "      <td>Speed and Service</td>\n",
       "      <td>18-04-15</td>\n",
       "      <td>2015-04-18</td>\n",
       "      <td>9:55:47 AM</td>\n",
       "      <td>Internet</td>\n",
       "      <td>Acworth</td>\n",
       "      <td>Georgia</td>\n",
       "      <td>30101</td>\n",
       "      <td>Closed</td>\n",
       "      <td>Yes</td>\n",
       "      <td>2015-04-18 09:55:47</td>\n",
       "      <td>2015-04-18</td>\n",
       "    </tr>\n",
       "    <tr>\n",
       "      <th>3</th>\n",
       "      <td>277946</td>\n",
       "      <td>Comcast Imposed a New Usage Cap of 300GB that ...</td>\n",
       "      <td>05-07-15</td>\n",
       "      <td>2015-07-05</td>\n",
       "      <td>11:59:35 AM</td>\n",
       "      <td>Internet</td>\n",
       "      <td>Acworth</td>\n",
       "      <td>Georgia</td>\n",
       "      <td>30101</td>\n",
       "      <td>Open</td>\n",
       "      <td>Yes</td>\n",
       "      <td>2015-07-05 11:59:35</td>\n",
       "      <td>2015-05-07</td>\n",
       "    </tr>\n",
       "    <tr>\n",
       "      <th>4</th>\n",
       "      <td>307175</td>\n",
       "      <td>Comcast not working and no service to boot</td>\n",
       "      <td>26-05-15</td>\n",
       "      <td>2015-05-26</td>\n",
       "      <td>1:25:26 PM</td>\n",
       "      <td>Internet</td>\n",
       "      <td>Acworth</td>\n",
       "      <td>Georgia</td>\n",
       "      <td>30101</td>\n",
       "      <td>Solved</td>\n",
       "      <td>No</td>\n",
       "      <td>2015-05-26 13:25:26</td>\n",
       "      <td>2015-05-26</td>\n",
       "    </tr>\n",
       "  </tbody>\n",
       "</table>\n",
       "</div>"
      ],
      "text/plain": [
       "  Ticket #                                 Customer Complaint      Date  \\\n",
       "0   250635                      Comcast Cable Internet Speeds  22-04-15   \n",
       "1   223441       Payment disappear - service got disconnected  04-08-15   \n",
       "2   242732                                  Speed and Service  18-04-15   \n",
       "3   277946  Comcast Imposed a New Usage Cap of 300GB that ...  05-07-15   \n",
       "4   307175         Comcast not working and no service to boot  26-05-15   \n",
       "\n",
       "  Date_month_year         Time        Received Via      City     State  \\\n",
       "0      2015-04-22   3:53:50 PM  Customer Care Call  Abingdon  Maryland   \n",
       "1      2015-08-04  10:22:56 AM            Internet   Acworth   Georgia   \n",
       "2      2015-04-18   9:55:47 AM            Internet   Acworth   Georgia   \n",
       "3      2015-07-05  11:59:35 AM            Internet   Acworth   Georgia   \n",
       "4      2015-05-26   1:25:26 PM            Internet   Acworth   Georgia   \n",
       "\n",
       "   Zip code  Status Filing on Behalf of Someone            Date_New  \\\n",
       "0     21009  Closed                          No 2015-04-22 15:53:50   \n",
       "1     30102  Closed                          No 2015-08-04 10:22:56   \n",
       "2     30101  Closed                         Yes 2015-04-18 09:55:47   \n",
       "3     30101    Open                         Yes 2015-07-05 11:59:35   \n",
       "4     30101  Solved                          No 2015-05-26 13:25:26   \n",
       "\n",
       "  Day of the Month  \n",
       "0       2015-04-22  \n",
       "1       2015-04-08  \n",
       "2       2015-04-18  \n",
       "3       2015-05-07  \n",
       "4       2015-05-26  "
      ]
     },
     "execution_count": 230,
     "metadata": {},
     "output_type": "execute_result"
    }
   ],
   "source": [
    "# Creating a new columns 'Date_New' (by adding Date_month_year with Time) and 'Day of the Month'  \n",
    "CTCC_Data['Date_New'] = CTCC_Data['Date_month_year'] + ' ' + CTCC_Data['Time']\n",
    "\n",
    "#Converting 'Date','Date_month_year' and 'Date_New' to Datetime Format\n",
    "CTCC_Data['Date_New'] = pd.to_datetime(CTCC_Data['Date_New'])\n",
    "CTCC_Data['Date_month_year'] = pd.to_datetime(CTCC_Data['Date_month_year'])\n",
    "CTCC_Data['Day of the Month'] = pd.to_datetime(CTCC_Data['Date'])\n",
    "\n",
    "#Displaying the datset after modification\n",
    "CTCC_Data.head()"
   ]
  },
  {
   "cell_type": "markdown",
   "id": "3fc99054",
   "metadata": {},
   "source": [
    "*From the above result we can see the new column Date_New is added to the dataset and also the columns are modified to the required format successfully!*"
   ]
  },
  {
   "cell_type": "code",
   "execution_count": 231,
   "id": "32210b10",
   "metadata": {},
   "outputs": [
    {
     "data": {
      "text/plain": [
       "Text(0.5, 0.98, 'Trend chart showing the number of complaints at monthly granularity levels')"
      ]
     },
     "execution_count": 231,
     "metadata": {},
     "output_type": "execute_result"
    },
    {
     "data": {
      "image/png": "[encoded data removed]",
      "text/plain": [
       "<Figure size 936x504 with 1 Axes>"
      ]
     },
     "metadata": {
      "needs_background": "light"
     },
     "output_type": "display_data"
    }
   ],
   "source": [
    "# Trend chart for the number of complaints at monthly granularity levels\n",
    "CTCC_Data_Monthly = CTCC_Data.set_index(CTCC_Data['Date_New'])\n",
    "plt.figure(figsize=(13,7))# to increase the plot Size\n",
    "CTCC_Data_Monthly.groupby(pd.Grouper(freq='M')).size().plot(c=\"r\",lw=2,marker='o',ms=10)\n",
    "plt.ylabel('Number of Complaints')\n",
    "plt.suptitle('Trend chart showing the number of complaints at monthly granularity levels')"
   ]
  },
  {
   "cell_type": "code",
   "execution_count": 232,
   "id": "36db4b21",
   "metadata": {},
   "outputs": [
    {
     "data": {
      "text/plain": [
       "Text(0.5, 0.98, 'Trend chart showing the number of complaints at daily granularity levels')"
      ]
     },
     "execution_count": 232,
     "metadata": {},
     "output_type": "execute_result"
    },
    {
     "data": {
      "image/png": "[encoded data removed]",
      "text/plain": [
       "<Figure size 936x504 with 1 Axes>"
      ]
     },
     "metadata": {
      "needs_background": "light"
     },
     "output_type": "display_data"
    }
   ],
   "source": [
    "# Trend chart for the number of complaints at daily granularity levels.\n",
    "CTCC_Data_Daily = CTCC_Data.set_index(CTCC_Data['Day of the Month'])\n",
    "plt.figure(figsize=(13,7))# to increase the plot Size\n",
    "CTCC_Data_Daily.groupby(pd.Grouper(freq='D')).size().plot(c=\"r\",lw=1.5,marker='o',ms=4)\n",
    "plt.ylabel('Number of Complaints')\n",
    "plt.suptitle('Trend chart showing the number of complaints at daily granularity levels')"
   ]
  },
  {
   "cell_type": "markdown",
   "id": "23ecb591",
   "metadata": {},
   "source": [
    "### 2. Provide a table with the frequency of complaint types."
   ]
  },
  {
   "cell_type": "code",
   "execution_count": 233,
   "id": "314d2b0c",
   "metadata": {},
   "outputs": [
    {
     "data": {
      "text/plain": [
       "Comcast                                          83\n",
       "Comcast Internet                                 18\n",
       "Comcast Data Cap                                 17\n",
       "comcast                                          13\n",
       "Comcast Billing                                  11\n",
       "                                                 ..\n",
       "Improper Billing and non resolution of issues     1\n",
       "Deceptive trade                                   1\n",
       "intermittent internet                             1\n",
       "Internet Speed on Wireless Connection             1\n",
       "Comcast, Ypsilanti MI Internet Speed              1\n",
       "Name: Customer Complaint, Length: 1841, dtype: int64"
      ]
     },
     "execution_count": 233,
     "metadata": {},
     "output_type": "execute_result"
    }
   ],
   "source": [
    "# For getting frequency of complaint types first we shall see all the customer complaint types present in the dataset\n",
    "# and also get the count of complaints that are repeated.\n",
    "CTCC_Data_Complaint_type = CTCC_Data['Customer Complaint'].value_counts()\n",
    "CTCC_Data_Complaint_type"
   ]
  },
  {
   "cell_type": "markdown",
   "id": "ff81ebf6",
   "metadata": {},
   "source": [
    "*The above result might not be proper because of duplicate values in the complaint type,so to make better analysis lets convert all the customer complaints to \"Upper Case\"*"
   ]
  },
  {
   "cell_type": "code",
   "execution_count": 234,
   "id": "4d22eaa4",
   "metadata": {},
   "outputs": [
    {
     "data": {
      "text/plain": [
       "COMCAST                                                            102\n",
       "COMCAST DATA CAP                                                    30\n",
       "COMCAST INTERNET                                                    29\n",
       "COMCAST DATA CAPS                                                   21\n",
       "COMCAST BILLING                                                     18\n",
       "                                                                  ... \n",
       "MONTHLY DATA CAPS                                                    1\n",
       "COMCAST/XFINITY POOR SERVICE, FRAUDULENT BILLING AND COLLECTION      1\n",
       "LOST EMAILS/BILLING                                                  1\n",
       "IMPROPER BILLING AND NON RESOLUTION OF ISSUES                        1\n",
       "COMCAST, YPSILANTI MI INTERNET SPEED                                 1\n",
       "Name: Customer Complaint, Length: 1740, dtype: int64"
      ]
     },
     "execution_count": 234,
     "metadata": {},
     "output_type": "execute_result"
    }
   ],
   "source": [
    "# Converting all complaint types to upper case \n",
    "CTCC_Data_Complaint_type=CTCC_Data['Customer Complaint'].str.upper().value_counts()\n",
    "CTCC_Data_Complaint_type"
   ]
  },
  {
   "cell_type": "markdown",
   "id": "324d86b0",
   "metadata": {},
   "source": [
    "*After converting to \"upper case\" we can see a reduction of length in the \"Customer Complaint\" from 1841 to 1740*"
   ]
  },
  {
   "cell_type": "code",
   "execution_count": 235,
   "id": "def18e92",
   "metadata": {},
   "outputs": [
    {
     "data": {
      "text/plain": [
       "COMCAST                               102\n",
       "COMCAST DATA CAP                       30\n",
       "COMCAST INTERNET                       29\n",
       "COMCAST DATA CAPS                      21\n",
       "COMCAST BILLING                        18\n",
       "COMCAST SERVICE                        15\n",
       "INTERNET SPEED                         15\n",
       "UNFAIR BILLING PRACTICES               13\n",
       "DATA CAPS                              13\n",
       "DATA CAP                               12\n",
       "COMCAST COMPLAINT                      11\n",
       "COMCAST/XFINITY                        11\n",
       "COMCAST INTERNET SERVICE               10\n",
       "BILLING                                 9\n",
       "BILLING ISSUES                          8\n",
       "COMCAST CABLE                           5\n",
       "INTERNET                                5\n",
       "COMCAST BILLING COMPLAINT               5\n",
       "COMCAST ISSUES                          5\n",
       "COMCAST BILLING PRACTICES               5\n",
       "SERVICE ISSUES                          5\n",
       "SLOW INTERNET                           5\n",
       "INTERNET SERVICE                        5\n",
       "COMPLAINT AGAINST COMCAST               5\n",
       "COMCAST UNFAIR BILLING PRACTICES        4\n",
       "COMCAST BILLING AND SERVICE ISSUES      4\n",
       "COMCAST INTERNET BILLING                4\n",
       "SLOW INTERNET SPEEDS                    4\n",
       "BILLING DISPUTE                         4\n",
       "COMCAST CUSTOMER SERVICE                4\n",
       "Name: Customer Complaint, dtype: int64"
      ]
     },
     "execution_count": 235,
     "metadata": {},
     "output_type": "execute_result"
    }
   ],
   "source": [
    "#Displaying top 30 complaints since we cannot display the entire table as the data is huge!\n",
    "CTCC_Data_Complaint_type.head(30)"
   ]
  },
  {
   "cell_type": "markdown",
   "id": "949a8dc6",
   "metadata": {},
   "source": [
    "#### Which complaint types are maximum ?\n",
    "> *From the above table we can clearly say that __COMCAST,COMCAST DATA CAP,COMCAST INTERNET__  are the top 3 most repeated \"Customer Complaints\" having maximum complaints compared to other domains.*"
   ]
  },
  {
   "cell_type": "markdown",
   "id": "6d68ae07",
   "metadata": {},
   "source": [
    "### 3. Create a new categorical variable with value as Open and Closed. Open & Pending is to be categorized as Open and  Closed & Solved is to be categorized as Closed."
   ]
  },
  {
   "cell_type": "code",
   "execution_count": 236,
   "id": "222f0ebd",
   "metadata": {},
   "outputs": [
    {
     "name": "stdout",
     "output_type": "stream",
     "text": [
      "Unique values in the Status Variable:\n",
      " ['Closed' 'Open' 'Solved' 'Pending']\n"
     ]
    }
   ],
   "source": [
    "print(\"Unique values in the Status Variable:\\n\",CTCC_Data['Status'].unique())"
   ]
  },
  {
   "cell_type": "markdown",
   "id": "7e86cb73",
   "metadata": {},
   "source": [
    "*There are __4__ unique values namely closed,open,solved and pending in the status colum*"
   ]
  },
  {
   "cell_type": "code",
   "execution_count": 237,
   "id": "0710549e",
   "metadata": {},
   "outputs": [
    {
     "data": {
      "text/html": [
       "<div>\n",
       "<style scoped>\n",
       "    .dataframe tbody tr th:only-of-type {\n",
       "        vertical-align: middle;\n",
       "    }\n",
       "\n",
       "    .dataframe tbody tr th {\n",
       "        vertical-align: top;\n",
       "    }\n",
       "\n",
       "    .dataframe thead th {\n",
       "        text-align: right;\n",
       "    }\n",
       "</style>\n",
       "<table border=\"1\" class=\"dataframe\">\n",
       "  <thead>\n",
       "    <tr style=\"text-align: right;\">\n",
       "      <th></th>\n",
       "      <th>Ticket #</th>\n",
       "      <th>Customer Complaint</th>\n",
       "      <th>Date</th>\n",
       "      <th>Date_month_year</th>\n",
       "      <th>Time</th>\n",
       "      <th>Received Via</th>\n",
       "      <th>City</th>\n",
       "      <th>State</th>\n",
       "      <th>Zip code</th>\n",
       "      <th>Status</th>\n",
       "      <th>Filing on Behalf of Someone</th>\n",
       "      <th>Date_New</th>\n",
       "      <th>Day of the Month</th>\n",
       "      <th>New_Status</th>\n",
       "    </tr>\n",
       "  </thead>\n",
       "  <tbody>\n",
       "    <tr>\n",
       "      <th>0</th>\n",
       "      <td>250635</td>\n",
       "      <td>Comcast Cable Internet Speeds</td>\n",
       "      <td>22-04-15</td>\n",
       "      <td>2015-04-22</td>\n",
       "      <td>3:53:50 PM</td>\n",
       "      <td>Customer Care Call</td>\n",
       "      <td>Abingdon</td>\n",
       "      <td>Maryland</td>\n",
       "      <td>21009</td>\n",
       "      <td>Closed</td>\n",
       "      <td>No</td>\n",
       "      <td>2015-04-22 15:53:50</td>\n",
       "      <td>2015-04-22</td>\n",
       "      <td>Closed</td>\n",
       "    </tr>\n",
       "    <tr>\n",
       "      <th>1</th>\n",
       "      <td>223441</td>\n",
       "      <td>Payment disappear - service got disconnected</td>\n",
       "      <td>04-08-15</td>\n",
       "      <td>2015-08-04</td>\n",
       "      <td>10:22:56 AM</td>\n",
       "      <td>Internet</td>\n",
       "      <td>Acworth</td>\n",
       "      <td>Georgia</td>\n",
       "      <td>30102</td>\n",
       "      <td>Closed</td>\n",
       "      <td>No</td>\n",
       "      <td>2015-08-04 10:22:56</td>\n",
       "      <td>2015-04-08</td>\n",
       "      <td>Closed</td>\n",
       "    </tr>\n",
       "    <tr>\n",
       "      <th>2</th>\n",
       "      <td>242732</td>\n",
       "      <td>Speed and Service</td>\n",
       "      <td>18-04-15</td>\n",
       "      <td>2015-04-18</td>\n",
       "      <td>9:55:47 AM</td>\n",
       "      <td>Internet</td>\n",
       "      <td>Acworth</td>\n",
       "      <td>Georgia</td>\n",
       "      <td>30101</td>\n",
       "      <td>Closed</td>\n",
       "      <td>Yes</td>\n",
       "      <td>2015-04-18 09:55:47</td>\n",
       "      <td>2015-04-18</td>\n",
       "      <td>Closed</td>\n",
       "    </tr>\n",
       "    <tr>\n",
       "      <th>3</th>\n",
       "      <td>277946</td>\n",
       "      <td>Comcast Imposed a New Usage Cap of 300GB that ...</td>\n",
       "      <td>05-07-15</td>\n",
       "      <td>2015-07-05</td>\n",
       "      <td>11:59:35 AM</td>\n",
       "      <td>Internet</td>\n",
       "      <td>Acworth</td>\n",
       "      <td>Georgia</td>\n",
       "      <td>30101</td>\n",
       "      <td>Open</td>\n",
       "      <td>Yes</td>\n",
       "      <td>2015-07-05 11:59:35</td>\n",
       "      <td>2015-05-07</td>\n",
       "      <td>Open</td>\n",
       "    </tr>\n",
       "    <tr>\n",
       "      <th>4</th>\n",
       "      <td>307175</td>\n",
       "      <td>Comcast not working and no service to boot</td>\n",
       "      <td>26-05-15</td>\n",
       "      <td>2015-05-26</td>\n",
       "      <td>1:25:26 PM</td>\n",
       "      <td>Internet</td>\n",
       "      <td>Acworth</td>\n",
       "      <td>Georgia</td>\n",
       "      <td>30101</td>\n",
       "      <td>Solved</td>\n",
       "      <td>No</td>\n",
       "      <td>2015-05-26 13:25:26</td>\n",
       "      <td>2015-05-26</td>\n",
       "      <td>Closed</td>\n",
       "    </tr>\n",
       "  </tbody>\n",
       "</table>\n",
       "</div>"
      ],
      "text/plain": [
       "  Ticket #                                 Customer Complaint      Date  \\\n",
       "0   250635                      Comcast Cable Internet Speeds  22-04-15   \n",
       "1   223441       Payment disappear - service got disconnected  04-08-15   \n",
       "2   242732                                  Speed and Service  18-04-15   \n",
       "3   277946  Comcast Imposed a New Usage Cap of 300GB that ...  05-07-15   \n",
       "4   307175         Comcast not working and no service to boot  26-05-15   \n",
       "\n",
       "  Date_month_year         Time        Received Via      City     State  \\\n",
       "0      2015-04-22   3:53:50 PM  Customer Care Call  Abingdon  Maryland   \n",
       "1      2015-08-04  10:22:56 AM            Internet   Acworth   Georgia   \n",
       "2      2015-04-18   9:55:47 AM            Internet   Acworth   Georgia   \n",
       "3      2015-07-05  11:59:35 AM            Internet   Acworth   Georgia   \n",
       "4      2015-05-26   1:25:26 PM            Internet   Acworth   Georgia   \n",
       "\n",
       "   Zip code  Status Filing on Behalf of Someone            Date_New  \\\n",
       "0     21009  Closed                          No 2015-04-22 15:53:50   \n",
       "1     30102  Closed                          No 2015-08-04 10:22:56   \n",
       "2     30101  Closed                         Yes 2015-04-18 09:55:47   \n",
       "3     30101    Open                         Yes 2015-07-05 11:59:35   \n",
       "4     30101  Solved                          No 2015-05-26 13:25:26   \n",
       "\n",
       "  Day of the Month New_Status  \n",
       "0       2015-04-22     Closed  \n",
       "1       2015-04-08     Closed  \n",
       "2       2015-04-18     Closed  \n",
       "3       2015-05-07       Open  \n",
       "4       2015-05-26     Closed  "
      ]
     },
     "execution_count": 237,
     "metadata": {},
     "output_type": "execute_result"
    }
   ],
   "source": [
    "# Creating a new categorical variable 'New_Status' with value as Open and Closed. \n",
    "# Open & Pending as Open \n",
    "# Closed & Solved as Closed.\n",
    "CTCC_Data['New_Status']= [\"Open\" if Status==\"Open\" or Status==\"Pending\" else \n",
    "                          \"Closed\" for Status in CTCC_Data[\"Status\"]]\n",
    "\n",
    "#Displaying the 1st 5 rows\n",
    "CTCC_Data.head()"
   ]
  },
  {
   "cell_type": "markdown",
   "id": "076bbd30",
   "metadata": {},
   "source": [
    "*we can see a new categorical variable called __\"New_Status\"__ is created successfully!*"
   ]
  },
  {
   "cell_type": "code",
   "execution_count": 238,
   "id": "2292cab9",
   "metadata": {},
   "outputs": [
    {
     "name": "stdout",
     "output_type": "stream",
     "text": [
      "Unique values in the New_Status Variable:\n",
      " ['Closed' 'Open']\n"
     ]
    }
   ],
   "source": [
    "# lets check whether the modification is done properly in the variable \"New_Status\"\n",
    "print(\"Unique values in the New_Status Variable:\\n\",CTCC_Data['New_Status'].unique())"
   ]
  },
  {
   "cell_type": "markdown",
   "id": "8ec22f10",
   "metadata": {},
   "source": [
    "Hence the task to create a new categorical variable 'New_Status'(with values only as Open and Closed) is accomplished.  "
   ]
  },
  {
   "cell_type": "markdown",
   "id": "35db6ba9",
   "metadata": {},
   "source": [
    "### 4. Provide state wise status of complaints in a stacked bar chart. Use the categorized variable from Q3."
   ]
  },
  {
   "cell_type": "code",
   "execution_count": 239,
   "id": "3f804ccc",
   "metadata": {},
   "outputs": [
    {
     "data": {
      "text/html": [
       "<div>\n",
       "<style scoped>\n",
       "    .dataframe tbody tr th:only-of-type {\n",
       "        vertical-align: middle;\n",
       "    }\n",
       "\n",
       "    .dataframe tbody tr th {\n",
       "        vertical-align: top;\n",
       "    }\n",
       "\n",
       "    .dataframe thead th {\n",
       "        text-align: right;\n",
       "    }\n",
       "</style>\n",
       "<table border=\"1\" class=\"dataframe\">\n",
       "  <thead>\n",
       "    <tr style=\"text-align: right;\">\n",
       "      <th>New_Status</th>\n",
       "      <th>Closed</th>\n",
       "      <th>Open</th>\n",
       "    </tr>\n",
       "    <tr>\n",
       "      <th>State</th>\n",
       "      <th></th>\n",
       "      <th></th>\n",
       "    </tr>\n",
       "  </thead>\n",
       "  <tbody>\n",
       "    <tr>\n",
       "      <th>Alabama</th>\n",
       "      <td>17</td>\n",
       "      <td>9</td>\n",
       "    </tr>\n",
       "    <tr>\n",
       "      <th>Arizona</th>\n",
       "      <td>14</td>\n",
       "      <td>6</td>\n",
       "    </tr>\n",
       "    <tr>\n",
       "      <th>Arkansas</th>\n",
       "      <td>6</td>\n",
       "      <td>0</td>\n",
       "    </tr>\n",
       "    <tr>\n",
       "      <th>California</th>\n",
       "      <td>159</td>\n",
       "      <td>61</td>\n",
       "    </tr>\n",
       "    <tr>\n",
       "      <th>Colorado</th>\n",
       "      <td>58</td>\n",
       "      <td>22</td>\n",
       "    </tr>\n",
       "    <tr>\n",
       "      <th>Connecticut</th>\n",
       "      <td>9</td>\n",
       "      <td>3</td>\n",
       "    </tr>\n",
       "    <tr>\n",
       "      <th>Delaware</th>\n",
       "      <td>8</td>\n",
       "      <td>4</td>\n",
       "    </tr>\n",
       "    <tr>\n",
       "      <th>District Of Columbia</th>\n",
       "      <td>14</td>\n",
       "      <td>2</td>\n",
       "    </tr>\n",
       "    <tr>\n",
       "      <th>District of Columbia</th>\n",
       "      <td>1</td>\n",
       "      <td>0</td>\n",
       "    </tr>\n",
       "    <tr>\n",
       "      <th>Florida</th>\n",
       "      <td>201</td>\n",
       "      <td>39</td>\n",
       "    </tr>\n",
       "    <tr>\n",
       "      <th>Georgia</th>\n",
       "      <td>208</td>\n",
       "      <td>80</td>\n",
       "    </tr>\n",
       "    <tr>\n",
       "      <th>Illinois</th>\n",
       "      <td>135</td>\n",
       "      <td>29</td>\n",
       "    </tr>\n",
       "    <tr>\n",
       "      <th>Indiana</th>\n",
       "      <td>50</td>\n",
       "      <td>9</td>\n",
       "    </tr>\n",
       "    <tr>\n",
       "      <th>Iowa</th>\n",
       "      <td>1</td>\n",
       "      <td>0</td>\n",
       "    </tr>\n",
       "    <tr>\n",
       "      <th>Kansas</th>\n",
       "      <td>1</td>\n",
       "      <td>1</td>\n",
       "    </tr>\n",
       "    <tr>\n",
       "      <th>Kentucky</th>\n",
       "      <td>4</td>\n",
       "      <td>3</td>\n",
       "    </tr>\n",
       "    <tr>\n",
       "      <th>Louisiana</th>\n",
       "      <td>12</td>\n",
       "      <td>1</td>\n",
       "    </tr>\n",
       "    <tr>\n",
       "      <th>Maine</th>\n",
       "      <td>3</td>\n",
       "      <td>2</td>\n",
       "    </tr>\n",
       "    <tr>\n",
       "      <th>Maryland</th>\n",
       "      <td>63</td>\n",
       "      <td>15</td>\n",
       "    </tr>\n",
       "    <tr>\n",
       "      <th>Massachusetts</th>\n",
       "      <td>50</td>\n",
       "      <td>11</td>\n",
       "    </tr>\n",
       "    <tr>\n",
       "      <th>Michigan</th>\n",
       "      <td>92</td>\n",
       "      <td>23</td>\n",
       "    </tr>\n",
       "    <tr>\n",
       "      <th>Minnesota</th>\n",
       "      <td>29</td>\n",
       "      <td>4</td>\n",
       "    </tr>\n",
       "    <tr>\n",
       "      <th>Mississippi</th>\n",
       "      <td>23</td>\n",
       "      <td>16</td>\n",
       "    </tr>\n",
       "    <tr>\n",
       "      <th>Missouri</th>\n",
       "      <td>3</td>\n",
       "      <td>1</td>\n",
       "    </tr>\n",
       "    <tr>\n",
       "      <th>Montana</th>\n",
       "      <td>1</td>\n",
       "      <td>0</td>\n",
       "    </tr>\n",
       "    <tr>\n",
       "      <th>Nevada</th>\n",
       "      <td>1</td>\n",
       "      <td>0</td>\n",
       "    </tr>\n",
       "    <tr>\n",
       "      <th>New Hampshire</th>\n",
       "      <td>8</td>\n",
       "      <td>4</td>\n",
       "    </tr>\n",
       "    <tr>\n",
       "      <th>New Jersey</th>\n",
       "      <td>56</td>\n",
       "      <td>19</td>\n",
       "    </tr>\n",
       "    <tr>\n",
       "      <th>New Mexico</th>\n",
       "      <td>11</td>\n",
       "      <td>4</td>\n",
       "    </tr>\n",
       "    <tr>\n",
       "      <th>New York</th>\n",
       "      <td>6</td>\n",
       "      <td>0</td>\n",
       "    </tr>\n",
       "    <tr>\n",
       "      <th>North Carolina</th>\n",
       "      <td>3</td>\n",
       "      <td>0</td>\n",
       "    </tr>\n",
       "    <tr>\n",
       "      <th>Ohio</th>\n",
       "      <td>3</td>\n",
       "      <td>0</td>\n",
       "    </tr>\n",
       "    <tr>\n",
       "      <th>Oregon</th>\n",
       "      <td>36</td>\n",
       "      <td>13</td>\n",
       "    </tr>\n",
       "    <tr>\n",
       "      <th>Pennsylvania</th>\n",
       "      <td>110</td>\n",
       "      <td>20</td>\n",
       "    </tr>\n",
       "    <tr>\n",
       "      <th>Rhode Island</th>\n",
       "      <td>1</td>\n",
       "      <td>0</td>\n",
       "    </tr>\n",
       "    <tr>\n",
       "      <th>South Carolina</th>\n",
       "      <td>15</td>\n",
       "      <td>3</td>\n",
       "    </tr>\n",
       "    <tr>\n",
       "      <th>Tennessee</th>\n",
       "      <td>96</td>\n",
       "      <td>47</td>\n",
       "    </tr>\n",
       "    <tr>\n",
       "      <th>Texas</th>\n",
       "      <td>49</td>\n",
       "      <td>22</td>\n",
       "    </tr>\n",
       "    <tr>\n",
       "      <th>Utah</th>\n",
       "      <td>16</td>\n",
       "      <td>6</td>\n",
       "    </tr>\n",
       "    <tr>\n",
       "      <th>Vermont</th>\n",
       "      <td>2</td>\n",
       "      <td>1</td>\n",
       "    </tr>\n",
       "    <tr>\n",
       "      <th>Virginia</th>\n",
       "      <td>49</td>\n",
       "      <td>11</td>\n",
       "    </tr>\n",
       "    <tr>\n",
       "      <th>Washington</th>\n",
       "      <td>75</td>\n",
       "      <td>23</td>\n",
       "    </tr>\n",
       "    <tr>\n",
       "      <th>West Virginia</th>\n",
       "      <td>8</td>\n",
       "      <td>3</td>\n",
       "    </tr>\n",
       "  </tbody>\n",
       "</table>\n",
       "</div>"
      ],
      "text/plain": [
       "New_Status            Closed  Open\n",
       "State                             \n",
       "Alabama                   17     9\n",
       "Arizona                   14     6\n",
       "Arkansas                   6     0\n",
       "California               159    61\n",
       "Colorado                  58    22\n",
       "Connecticut                9     3\n",
       "Delaware                   8     4\n",
       "District Of Columbia      14     2\n",
       "District of Columbia       1     0\n",
       "Florida                  201    39\n",
       "Georgia                  208    80\n",
       "Illinois                 135    29\n",
       "Indiana                   50     9\n",
       "Iowa                       1     0\n",
       "Kansas                     1     1\n",
       "Kentucky                   4     3\n",
       "Louisiana                 12     1\n",
       "Maine                      3     2\n",
       "Maryland                  63    15\n",
       "Massachusetts             50    11\n",
       "Michigan                  92    23\n",
       "Minnesota                 29     4\n",
       "Mississippi               23    16\n",
       "Missouri                   3     1\n",
       "Montana                    1     0\n",
       "Nevada                     1     0\n",
       "New Hampshire              8     4\n",
       "New Jersey                56    19\n",
       "New Mexico                11     4\n",
       "New York                   6     0\n",
       "North Carolina             3     0\n",
       "Ohio                       3     0\n",
       "Oregon                    36    13\n",
       "Pennsylvania             110    20\n",
       "Rhode Island               1     0\n",
       "South Carolina            15     3\n",
       "Tennessee                 96    47\n",
       "Texas                     49    22\n",
       "Utah                      16     6\n",
       "Vermont                    2     1\n",
       "Virginia                  49    11\n",
       "Washington                75    23\n",
       "West Virginia              8     3"
      ]
     },
     "execution_count": 239,
     "metadata": {},
     "output_type": "execute_result"
    }
   ],
   "source": [
    "#Performing cross tabulation on'State' and 'New_Status' to get state wise status of complaints\n",
    "CTCC_Data_State_Wise_Status = pd.crosstab(CTCC_Data['State'],CTCC_Data['New_Status'])\n",
    "CTCC_Data_State_Wise_Status"
   ]
  },
  {
   "cell_type": "code",
   "execution_count": 240,
   "id": "9e86ea40",
   "metadata": {},
   "outputs": [
    {
     "data": {
      "text/plain": [
       "<AxesSubplot:title={'center':'Stacked Bar Chart Showing State Wise Status of Complaints'}, ylabel='State'>"
      ]
     },
     "execution_count": 240,
     "metadata": {},
     "output_type": "execute_result"
    },
    {
     "data": {
      "image/png": "[encoded data removed]",
      "text/plain": [
       "<Figure size 1008x1152 with 1 Axes>"
      ]
     },
     "metadata": {
      "needs_background": "light"
     },
     "output_type": "display_data"
    }
   ],
   "source": [
    "#plotting a state wise status of complaints in a stacked bar chart\n",
    "colors={'Open':'red','Closed':'limegreen'}\n",
    "CTCC_Data_State_Wise_Status.plot(kind='barh',figsize=(14,16),stacked=True,color=colors,\n",
    "                                 title='Stacked Bar Chart Showing State Wise Status of Complaints') "
   ]
  },
  {
   "cell_type": "markdown",
   "id": "7659580b",
   "metadata": {},
   "source": [
    "#### Which state has the maximum complaints?"
   ]
  },
  {
   "cell_type": "code",
   "execution_count": 169,
   "id": "714f486a",
   "metadata": {},
   "outputs": [
    {
     "data": {
      "text/html": [
       "<div>\n",
       "<style scoped>\n",
       "    .dataframe tbody tr th:only-of-type {\n",
       "        vertical-align: middle;\n",
       "    }\n",
       "\n",
       "    .dataframe tbody tr th {\n",
       "        vertical-align: top;\n",
       "    }\n",
       "\n",
       "    .dataframe thead th {\n",
       "        text-align: right;\n",
       "    }\n",
       "</style>\n",
       "<table border=\"1\" class=\"dataframe\">\n",
       "  <thead>\n",
       "    <tr style=\"text-align: right;\">\n",
       "      <th></th>\n",
       "      <th>State</th>\n",
       "      <th>Count</th>\n",
       "    </tr>\n",
       "  </thead>\n",
       "  <tbody>\n",
       "    <tr>\n",
       "      <th>0</th>\n",
       "      <td>Georgia</td>\n",
       "      <td>288</td>\n",
       "    </tr>\n",
       "    <tr>\n",
       "      <th>1</th>\n",
       "      <td>Florida</td>\n",
       "      <td>240</td>\n",
       "    </tr>\n",
       "    <tr>\n",
       "      <th>2</th>\n",
       "      <td>California</td>\n",
       "      <td>220</td>\n",
       "    </tr>\n",
       "    <tr>\n",
       "      <th>3</th>\n",
       "      <td>Illinois</td>\n",
       "      <td>164</td>\n",
       "    </tr>\n",
       "    <tr>\n",
       "      <th>4</th>\n",
       "      <td>Tennessee</td>\n",
       "      <td>143</td>\n",
       "    </tr>\n",
       "  </tbody>\n",
       "</table>\n",
       "</div>"
      ],
      "text/plain": [
       "        State  Count\n",
       "0     Georgia    288\n",
       "1     Florida    240\n",
       "2  California    220\n",
       "3    Illinois    164\n",
       "4   Tennessee    143"
      ]
     },
     "execution_count": 169,
     "metadata": {},
     "output_type": "execute_result"
    }
   ],
   "source": [
    "CTCC_Data.groupby([\"State\"]).size().sort_values(ascending=False).to_frame().reset_index().rename({0: \"Count\"}, axis=1)[:5]"
   ]
  },
  {
   "cell_type": "markdown",
   "id": "4f4814d4",
   "metadata": {},
   "source": [
    "*Seeing the stacked bar chart and the above result we can say that maximum complaints are from the State called __Georgia__ (It has 288 number of complaints)*"
   ]
  },
  {
   "cell_type": "markdown",
   "id": "bb7bd67a",
   "metadata": {},
   "source": [
    "#### Which state has the highest percentage of unresolved complaints?"
   ]
  },
  {
   "cell_type": "code",
   "execution_count": 195,
   "id": "84198ec6",
   "metadata": {},
   "outputs": [
    {
     "data": {
      "text/html": [
       "<div>\n",
       "<style scoped>\n",
       "    .dataframe tbody tr th:only-of-type {\n",
       "        vertical-align: middle;\n",
       "    }\n",
       "\n",
       "    .dataframe tbody tr th {\n",
       "        vertical-align: top;\n",
       "    }\n",
       "\n",
       "    .dataframe thead th {\n",
       "        text-align: right;\n",
       "    }\n",
       "</style>\n",
       "<table border=\"1\" class=\"dataframe\">\n",
       "  <thead>\n",
       "    <tr style=\"text-align: right;\">\n",
       "      <th>New_Status</th>\n",
       "      <th>Closed</th>\n",
       "      <th>Open</th>\n",
       "      <th>Percentage of Unresolved Complaints</th>\n",
       "    </tr>\n",
       "    <tr>\n",
       "      <th>State</th>\n",
       "      <th></th>\n",
       "      <th></th>\n",
       "      <th></th>\n",
       "    </tr>\n",
       "  </thead>\n",
       "  <tbody>\n",
       "    <tr>\n",
       "      <th>Alabama</th>\n",
       "      <td>17</td>\n",
       "      <td>9</td>\n",
       "      <td>1.740812</td>\n",
       "    </tr>\n",
       "    <tr>\n",
       "      <th>Arizona</th>\n",
       "      <td>14</td>\n",
       "      <td>6</td>\n",
       "      <td>1.160542</td>\n",
       "    </tr>\n",
       "    <tr>\n",
       "      <th>Arkansas</th>\n",
       "      <td>6</td>\n",
       "      <td>0</td>\n",
       "      <td>0.000000</td>\n",
       "    </tr>\n",
       "    <tr>\n",
       "      <th>California</th>\n",
       "      <td>159</td>\n",
       "      <td>61</td>\n",
       "      <td>11.798839</td>\n",
       "    </tr>\n",
       "    <tr>\n",
       "      <th>Colorado</th>\n",
       "      <td>58</td>\n",
       "      <td>22</td>\n",
       "      <td>4.255319</td>\n",
       "    </tr>\n",
       "  </tbody>\n",
       "</table>\n",
       "</div>"
      ],
      "text/plain": [
       "New_Status  Closed  Open  Percentage of Unresolved Complaints\n",
       "State                                                        \n",
       "Alabama         17     9                             1.740812\n",
       "Arizona         14     6                             1.160542\n",
       "Arkansas         6     0                             0.000000\n",
       "California     159    61                            11.798839\n",
       "Colorado        58    22                             4.255319"
      ]
     },
     "execution_count": 195,
     "metadata": {},
     "output_type": "execute_result"
    }
   ],
   "source": [
    "#Calculating the percenting of unresolved complaints state wise\n",
    "CTCC_Data_State_Wise_Status['Percentage of Unresolved Complaints']=(CTCC_Data_State_Wise_Status['Open']/CTCC_Data_State_Wise_Status['Open'].sum())*100\n",
    "CTCC_Data_State_Wise_Status.head()"
   ]
  },
  {
   "cell_type": "code",
   "execution_count": 198,
   "id": "8ba58d92",
   "metadata": {},
   "outputs": [
    {
     "data": {
      "text/plain": [
       "State\n",
       "Georgia       15.473888\n",
       "California    11.798839\n",
       "Tennessee      9.090909\n",
       "Florida        7.543520\n",
       "Illinois       5.609284\n",
       "Name: Percentage of Unresolved Complaints, dtype: float64"
      ]
     },
     "execution_count": 198,
     "metadata": {},
     "output_type": "execute_result"
    }
   ],
   "source": [
    "CTCC_Data_State_Wise_Status['Percentage of Unresolved Complaints'].sort_values(ascending=False).head()"
   ]
  },
  {
   "cell_type": "markdown",
   "id": "51beffa2",
   "metadata": {},
   "source": [
    "*From the above result we find that __Georgia__ has the highest percentage of unresolved complaints compare to other states.Lets Show this by plotting a __bar chart__*"
   ]
  },
  {
   "cell_type": "code",
   "execution_count": 220,
   "id": "48e6733c",
   "metadata": {},
   "outputs": [
    {
     "data": {
      "text/plain": [
       "Text(0.5, 1.0, 'Highest percentage of unresolved complaints\\n')"
      ]
     },
     "execution_count": 220,
     "metadata": {},
     "output_type": "execute_result"
    },
    {
     "data": {
      "image/png": "[encoded data removed]",
      "text/plain": [
       "<Figure size 1152x432 with 1 Axes>"
      ]
     },
     "metadata": {
      "needs_background": "light"
     },
     "output_type": "display_data"
    }
   ],
   "source": [
    "CTCC_Data_State_Wise_Status['Percentage of Unresolved Complaints'].sort_values(ascending=False).plot(kind='bar',figsize=(16,6),color=\"r\")\n",
    "plt.title('Highest percentage of unresolved complaints\\n')"
   ]
  },
  {
   "cell_type": "markdown",
   "id": "d2227297",
   "metadata": {},
   "source": [
    "### 5. Provide the percentage of complaints resolved till date, which were received through the Internet and customer care call"
   ]
  },
  {
   "cell_type": "code",
   "execution_count": 241,
   "id": "7c6e9e31",
   "metadata": {},
   "outputs": [
    {
     "name": "stdout",
     "output_type": "stream",
     "text": [
      "The Unique Values in the Received Via Variable \n",
      " ['Customer Care Call' 'Internet']\n"
     ]
    }
   ],
   "source": [
    "# Checking for unique values in Received Via Column of CTCC_Data\n",
    "print(\"The Unique Values in the Received Via Variable \\n\",CTCC_Data['Received Via'].unique())"
   ]
  },
  {
   "cell_type": "markdown",
   "id": "7875e383",
   "metadata": {},
   "source": [
    "*There are __2__ Unique values'Customer Care Call' and 'Internet' in the Received via variable*"
   ]
  },
  {
   "cell_type": "code",
   "execution_count": 242,
   "id": "718a68ac",
   "metadata": {},
   "outputs": [
    {
     "data": {
      "text/plain": [
       "Closed    1707\n",
       "Open       517\n",
       "Name: New_Status, dtype: int64"
      ]
     },
     "execution_count": 242,
     "metadata": {},
     "output_type": "execute_result"
    }
   ],
   "source": [
    "#count of complaints resolved till date\n",
    "CTCC_Data.New_Status.value_counts()"
   ]
  },
  {
   "cell_type": "markdown",
   "id": "e3d2f047",
   "metadata": {},
   "source": [
    "This shows 1707 complaints are resolved or closed"
   ]
  },
  {
   "cell_type": "code",
   "execution_count": 253,
   "id": "b3af0b72",
   "metadata": {},
   "outputs": [
    {
     "data": {
      "text/plain": [
       "<AxesSubplot:title={'center':'Percentage of Complaints Resolved till date which were received through Internet and Customer care call\\n'}, ylabel='New_Status'>"
      ]
     },
     "execution_count": 253,
     "metadata": {},
     "output_type": "execute_result"
    },
    {
     "data": {
      "image/png": "[encoded data removed]",
      "text/plain": [
       "<Figure size 1008x432 with 1 Axes>"
      ]
     },
     "metadata": {},
     "output_type": "display_data"
    }
   ],
   "source": [
    "# Using autopct='%1.1f%%' to show percentage under the pie chart\n",
    "mycolor=['limegreen','red']\n",
    "myexplode = [0.1, 0]\n",
    "plt.title('Percentage of Complaints Resolved till date which were received through Internet and Customer care call\\n')\n",
    "CTCC_Data.New_Status.value_counts().plot(kind='pie',explode = myexplode,colors=mycolor,autopct='%1.1f%%',figsize = (14,6))"
   ]
  },
  {
   "cell_type": "markdown",
   "id": "0a2ec0bb",
   "metadata": {},
   "source": [
    "*From the plot we can conclude that __76.8%__ of percentage of complaints resolved till date, which were received through the Internet and customer care call*"
   ]
  },
  {
   "cell_type": "code",
   "execution_count": null,
   "id": "b62b38f7",
   "metadata": {},
   "outputs": [],
   "source": []
  },
  {
   "cell_type": "code",
   "execution_count": null,
   "id": "b1c35ad2",
   "metadata": {},
   "outputs": [],
   "source": []
  },
  {
   "cell_type": "code",
   "execution_count": null,
   "id": "c704a336",
   "metadata": {},
   "outputs": [],
   "source": []
  },
  {
   "cell_type": "code",
   "execution_count": null,
   "id": "9ea5f5e7",
   "metadata": {},
   "outputs": [],
   "source": []
  }
 ],
 "metadata": {
  "kernelspec": {
   "display_name": "Python 3 (ipykernel)",
   "language": "python",
   "name": "python3"
  },
  "language_info": {
   "codemirror_mode": {
    "name": "ipython",
    "version": 3
   },
   "file_extension": ".py",
   "mimetype": "text/x-python",
   "name": "python",
   "nbconvert_exporter": "python",
   "pygments_lexer": "ipython3",
   "version": "3.9.7"
  }
 },
 "nbformat": 4,
 "nbformat_minor": 5
}
